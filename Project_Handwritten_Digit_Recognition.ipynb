{
  "nbformat": 4,
  "nbformat_minor": 0,
  "metadata": {
    "colab": {
      "provenance": [],
      "authorship_tag": "ABX9TyPW7SlbNigP+/6wG7oPXvFK",
      "include_colab_link": true
    },
    "kernelspec": {
      "name": "python3",
      "display_name": "Python 3"
    },
    "language_info": {
      "name": "python"
    }
  },
  "cells": [
    {
      "cell_type": "markdown",
      "metadata": {
        "id": "view-in-github",
        "colab_type": "text"
      },
      "source": [
        "<a href=\"https://colab.research.google.com/github/ManjotSran/Handwritten-Digit-Recognition-using-CNN/blob/main/Project_Handwritten_Digit_Recognition.ipynb\" target=\"_parent\"><img src=\"https://colab.research.google.com/assets/colab-badge.svg\" alt=\"Open In Colab\"/></a>"
      ]
    },
    {
      "cell_type": "code",
      "execution_count": 3,
      "metadata": {
        "colab": {
          "base_uri": "https://localhost:8080/",
          "height": 351
        },
        "id": "_DH0g-9ro1wF",
        "outputId": "3996903f-12e5-4a5e-d021-88c8b0e205a3"
      },
      "outputs": [
        {
          "output_type": "display_data",
          "data": {
            "text/plain": [
              "<Figure size 640x480 with 10 Axes>"
            ],
            "image/png": "[encoded data removed]"
          },
          "metadata": {}
        }
      ],
      "source": [
        "from tensorflow.keras.datasets import mnist\n",
        "import matplotlib.pyplot as plt\n",
        "\n",
        "# load (downloaded if needed) the MNIST dataset\n",
        "(X_train, y_train), (X_test, y_test) = mnist.load_data()\n",
        "\n",
        "# create a 2x5 grid for subplots\n",
        "plt.subplot(251)\n",
        "plt.imshow(X_train[0], cmap=plt.get_cmap('gray'))\n",
        "plt.subplot(252)\n",
        "plt.imshow(X_train[1], cmap=plt.get_cmap('gray'))\n",
        "plt.subplot(253)\n",
        "plt.imshow(X_train[2], cmap=plt.get_cmap('gray'))\n",
        "plt.subplot(254)\n",
        "plt.imshow(X_train[3], cmap=plt.get_cmap('gray'))\n",
        "plt.subplot(255)\n",
        "plt.imshow(X_train[4], cmap=plt.get_cmap('gray'))\n",
        "plt.subplot(256)\n",
        "plt.imshow(X_train[5], cmap=plt.get_cmap('gray'))\n",
        "plt.subplot(257)\n",
        "plt.imshow(X_train[6], cmap=plt.get_cmap('gray'))\n",
        "plt.subplot(258)\n",
        "plt.imshow(X_train[7], cmap=plt.get_cmap('gray'))\n",
        "plt.subplot(259)\n",
        "plt.imshow(X_train[8], cmap=plt.get_cmap('gray'))\n",
        "plt.subplot(2,5,10)\n",
        "plt.imshow(X_train[9], cmap=plt.get_cmap('gray'))\n",
        "\n",
        "# show the plot\n",
        "plt.show()\n"
      ]
    },
    {
      "cell_type": "code",
      "source": [
        "# Baseline Model with Multi-Layer Perceptrons"
      ],
      "metadata": {
        "id": "X23kIpQMr3ls"
      },
      "execution_count": 4,
      "outputs": []
    },
    {
      "cell_type": "code",
      "source": [
        "from tensorflow.keras.datasets import mnist\n",
        "from tensorflow.keras.models import Sequential\n",
        "from tensorflow.keras.layers import Dense\n",
        "from tensorflow.keras.layers import Dropout\n",
        "from tensorflow.keras.utils import to_categorical"
      ],
      "metadata": {
        "id": "Mx8w2DVXxx9-"
      },
      "execution_count": 5,
      "outputs": []
    },
    {
      "cell_type": "code",
      "source": [
        "# load data\n",
        "(X_train, y_train), (X_test, y_test) = mnist.load_data()"
      ],
      "metadata": {
        "id": "pEWAd_MDx6K0"
      },
      "execution_count": 7,
      "outputs": []
    },
    {
      "cell_type": "code",
      "source": [
        "# flatten 28*28 images to a 784 vector for each image\n",
        "num_pixels = X_train.shape[1] * X_train.shape[2]\n",
        "X_train = X_train.reshape((X_train.shape[0], num_pixels)).astype('float32')\n",
        "X_test = X_test.reshape((X_test.shape[0], num_pixels)).astype('float32')"
      ],
      "metadata": {
        "id": "6JJqQhxPx8t-"
      },
      "execution_count": 8,
      "outputs": []
    },
    {
      "cell_type": "code",
      "source": [
        "# normalize inputs from 0-255 to 0-1\n",
        "X_train = X_train / 255\n",
        "X_test = X_test / 255"
      ],
      "metadata": {
        "id": "tgQLt7zLyCHu"
      },
      "execution_count": 9,
      "outputs": []
    },
    {
      "cell_type": "code",
      "source": [
        "# one hot encode outputs\n",
        "y_train = to_categorical(y_train)\n",
        "y_test = to_categorical(y_test)\n",
        "num_classes = y_test.shape[1]"
      ],
      "metadata": {
        "id": "2o3OhOxjyFPu"
      },
      "execution_count": 10,
      "outputs": []
    },
    {
      "cell_type": "code",
      "source": [
        "# define baseline model\n",
        "def baseline_model():\n",
        " # create model\n",
        " model = Sequential()\n",
        " model.add(Dense(num_pixels, input_shape=(num_pixels,), kernel_initializer='normal', activation='relu'))\n",
        " model.add(Dense(num_classes, kernel_initializer='normal', activation='softmax'))\n",
        " # Compile model\n",
        " model.compile(loss='categorical_crossentropy', optimizer='adam', metrics=['accuracy'])\n",
        " return model"
      ],
      "metadata": {
        "id": "4L956hQhyHhM"
      },
      "execution_count": 11,
      "outputs": []
    },
    {
      "cell_type": "code",
      "source": [
        "# define baseline model\n",
        "def baseline_model():\n",
        "\t# create model\n",
        "\tmodel = Sequential()\n",
        "\tmodel.add(Dense(num_pixels, input_shape=(num_pixels,), kernel_initializer='normal', activation='relu'))\n",
        "\tmodel.add(Dense(num_classes, kernel_initializer='normal', activation='softmax'))\n",
        "\t# Compile model\n",
        "\tmodel.compile(loss='categorical_crossentropy', optimizer='adam', metrics=['accuracy'])\n",
        "\treturn model"
      ],
      "metadata": {
        "id": "cTO9UGIyyKHd"
      },
      "execution_count": 12,
      "outputs": []
    },
    {
      "cell_type": "code",
      "source": [
        "# build the model\n",
        "model = baseline_model()\n",
        "# Fit the model\n",
        "model.fit(X_train, y_train, validation_data=(X_test, y_test), epochs=10, batch_size=200, verbose=2)\n",
        "# Final evaluation of the model\n",
        "scores = model.evaluate(X_test, y_test, verbose=0)\n",
        "print(\"Baseline Error: %.2f%%\" % (100-scores[1]*100))"
      ],
      "metadata": {
        "colab": {
          "base_uri": "https://localhost:8080/"
        },
        "id": "2FBflkwMyRre",
        "outputId": "22630447-87eb-454a-903b-4a2e2bdfd774"
      },
      "execution_count": 13,
      "outputs": [
        {
          "output_type": "stream",
          "name": "stdout",
          "text": [
            "Epoch 1/10\n",
            "300/300 - 5s - loss: 0.2749 - accuracy: 0.9215 - val_loss: 0.1359 - val_accuracy: 0.9623 - 5s/epoch - 17ms/step\n",
            "Epoch 2/10\n",
            "300/300 - 4s - loss: 0.1090 - accuracy: 0.9690 - val_loss: 0.0973 - val_accuracy: 0.9705 - 4s/epoch - 14ms/step\n",
            "Epoch 3/10\n",
            "300/300 - 5s - loss: 0.0711 - accuracy: 0.9796 - val_loss: 0.0824 - val_accuracy: 0.9743 - 5s/epoch - 16ms/step\n",
            "Epoch 4/10\n",
            "300/300 - 4s - loss: 0.0492 - accuracy: 0.9860 - val_loss: 0.0665 - val_accuracy: 0.9806 - 4s/epoch - 14ms/step\n",
            "Epoch 5/10\n",
            "300/300 - 4s - loss: 0.0357 - accuracy: 0.9901 - val_loss: 0.0626 - val_accuracy: 0.9811 - 4s/epoch - 14ms/step\n",
            "Epoch 6/10\n",
            "300/300 - 5s - loss: 0.0266 - accuracy: 0.9927 - val_loss: 0.0654 - val_accuracy: 0.9790 - 5s/epoch - 16ms/step\n",
            "Epoch 7/10\n",
            "300/300 - 4s - loss: 0.0191 - accuracy: 0.9954 - val_loss: 0.0569 - val_accuracy: 0.9816 - 4s/epoch - 14ms/step\n",
            "Epoch 8/10\n",
            "300/300 - 4s - loss: 0.0152 - accuracy: 0.9966 - val_loss: 0.0583 - val_accuracy: 0.9814 - 4s/epoch - 14ms/step\n",
            "Epoch 9/10\n",
            "300/300 - 5s - loss: 0.0104 - accuracy: 0.9980 - val_loss: 0.0671 - val_accuracy: 0.9803 - 5s/epoch - 15ms/step\n",
            "Epoch 10/10\n",
            "300/300 - 4s - loss: 0.0081 - accuracy: 0.9986 - val_loss: 0.0618 - val_accuracy: 0.9810 - 4s/epoch - 14ms/step\n",
            "Baseline Error: 1.90%\n"
          ]
        }
      ]
    },
    {
      "cell_type": "code",
      "source": [
        "# We can see although that our multi-layer perceptron model did performed well. But, Now we will see how to build more sophosticated convoultional neural networks."
      ],
      "metadata": {
        "id": "qr26tw_jyXLd"
      },
      "execution_count": 15,
      "outputs": []
    },
    {
      "cell_type": "code",
      "source": [
        "from tensorflow.keras.datasets import mnist\n",
        "from tensorflow.keras.models import Sequential\n",
        "from tensorflow.keras.layers import Dense\n",
        "from tensorflow.keras.layers import Dropout\n",
        "from tensorflow.keras.layers import Flatten\n",
        "from tensorflow.keras.layers import Conv2D\n",
        "from tensorflow.keras.layers import MaxPooling2D\n",
        "from tensorflow.keras.utils import to_categorical"
      ],
      "metadata": {
        "id": "1TlFfbK5zUSV"
      },
      "execution_count": 16,
      "outputs": []
    },
    {
      "cell_type": "code",
      "source": [
        "# load data\n",
        "(X_train, y_train), (X_test, y_test) = mnist.load_data()\n",
        "# reshape to be [samples][width][height][channels]\n",
        "X_train = X_train.reshape(X_train.shape[0], 28, 28, 1).astype('float32')\n",
        "X_test = X_test.reshape(X_test.shape[0], 28, 28, 1).astype('float32')"
      ],
      "metadata": {
        "id": "3asDP_-kziZ9"
      },
      "execution_count": 17,
      "outputs": []
    },
    {
      "cell_type": "code",
      "source": [
        "# normalize inputs from 0-255 to 0-1\n",
        "X_train = X_train / 255\n",
        "X_test = X_test / 255\n",
        "# one hot encode outputs\n",
        "y_train = to_categorical(y_train)\n",
        "y_test = to_categorical(y_test)\n",
        "num_classes = y_test.shape[1]"
      ],
      "metadata": {
        "id": "mBzd9bI4zlCM"
      },
      "execution_count": 18,
      "outputs": []
    },
    {
      "cell_type": "code",
      "source": [
        "def baseline_model():\n",
        "\t# create model\n",
        "\tmodel = Sequential()\n",
        "\tmodel.add(Conv2D(32, (5, 5), input_shape=(28, 28, 1), activation='relu'))\n",
        "\tmodel.add(MaxPooling2D(pool_size=(2, 2)))\n",
        "\tmodel.add(Dropout(0.2))\n",
        "\tmodel.add(Flatten())\n",
        "\tmodel.add(Dense(128, activation='relu'))\n",
        "\tmodel.add(Dense(num_classes, activation='softmax'))\n",
        "\t# Compile model\n",
        "\tmodel.compile(loss='categorical_crossentropy', optimizer='adam', metrics=['accuracy'])\n",
        "\treturn model"
      ],
      "metadata": {
        "id": "LbVqh4jvznaU"
      },
      "execution_count": 20,
      "outputs": []
    },
    {
      "cell_type": "code",
      "source": [
        "# build the model\n",
        "model = baseline_model()\n",
        "# Fit the model\n",
        "model.fit(X_train, y_train, validation_data=(X_test, y_test), epochs=10, batch_size=200, verbose=2)\n",
        "# Final evaluation of the model\n",
        "scores = model.evaluate(X_test, y_test, verbose=0)\n",
        "print(\"CNN Error: %.2f%%\" % (100-scores[1]*100))"
      ],
      "metadata": {
        "colab": {
          "base_uri": "https://localhost:8080/"
        },
        "id": "23WCPj46zyIt",
        "outputId": "f525ff00-878b-45fe-cca2-0673bf8e4bfc"
      },
      "execution_count": 21,
      "outputs": [
        {
          "output_type": "stream",
          "name": "stdout",
          "text": [
            "Epoch 1/10\n",
            "300/300 - 29s - loss: 0.2400 - accuracy: 0.9308 - val_loss: 0.0735 - val_accuracy: 0.9787 - 29s/epoch - 97ms/step\n",
            "Epoch 2/10\n",
            "300/300 - 28s - loss: 0.0738 - accuracy: 0.9783 - val_loss: 0.0481 - val_accuracy: 0.9837 - 28s/epoch - 92ms/step\n",
            "Epoch 3/10\n",
            "300/300 - 27s - loss: 0.0519 - accuracy: 0.9838 - val_loss: 0.0485 - val_accuracy: 0.9832 - 27s/epoch - 89ms/step\n",
            "Epoch 4/10\n",
            "300/300 - 26s - loss: 0.0407 - accuracy: 0.9871 - val_loss: 0.0443 - val_accuracy: 0.9861 - 26s/epoch - 87ms/step\n",
            "Epoch 5/10\n",
            "300/300 - 26s - loss: 0.0337 - accuracy: 0.9898 - val_loss: 0.0421 - val_accuracy: 0.9856 - 26s/epoch - 87ms/step\n",
            "Epoch 6/10\n",
            "300/300 - 26s - loss: 0.0273 - accuracy: 0.9915 - val_loss: 0.0346 - val_accuracy: 0.9885 - 26s/epoch - 88ms/step\n",
            "Epoch 7/10\n",
            "300/300 - 27s - loss: 0.0234 - accuracy: 0.9928 - val_loss: 0.0301 - val_accuracy: 0.9901 - 27s/epoch - 90ms/step\n",
            "Epoch 8/10\n",
            "300/300 - 26s - loss: 0.0200 - accuracy: 0.9938 - val_loss: 0.0350 - val_accuracy: 0.9889 - 26s/epoch - 87ms/step\n",
            "Epoch 9/10\n",
            "300/300 - 26s - loss: 0.0158 - accuracy: 0.9950 - val_loss: 0.0318 - val_accuracy: 0.9898 - 26s/epoch - 87ms/step\n",
            "Epoch 10/10\n",
            "300/300 - 26s - loss: 0.0137 - accuracy: 0.9957 - val_loss: 0.0314 - val_accuracy: 0.9899 - 26s/epoch - 87ms/step\n",
            "CNN Error: 1.01%\n"
          ]
        }
      ]
    },
    {
      "cell_type": "code",
      "source": [
        "# Network achieves an error rate of 1.01%, which is better than our simple multi-layer perceptron model above."
      ],
      "metadata": {
        "id": "0i0I__wNz0g8"
      },
      "execution_count": 22,
      "outputs": []
    },
    {
      "cell_type": "code",
      "source": [
        "# Now, We will build Larger Convolutional Neural Network for MNIST to get the the near perfect results"
      ],
      "metadata": {
        "id": "8JUjlDSZ1ZtU"
      },
      "execution_count": 23,
      "outputs": []
    },
    {
      "cell_type": "code",
      "source": [
        "# Larger CNN for the MNIST Dataset\n",
        "from tensorflow.keras.datasets import mnist\n",
        "from tensorflow.keras.models import Sequential\n",
        "from tensorflow.keras.layers import Dense\n",
        "from tensorflow.keras.layers import Dropout\n",
        "from tensorflow.keras.layers import Flatten\n",
        "from tensorflow.keras.layers import Conv2D\n",
        "from tensorflow.keras.layers import MaxPooling2D\n",
        "from tensorflow.keras.utils import to_categorical\n",
        "# load data\n",
        "(X_train, y_train), (X_test, y_test) = mnist.load_data()\n",
        "# reshape to be [samples][width][height][channels]\n",
        "X_train = X_train.reshape((X_train.shape[0], 28, 28, 1)).astype('float32')\n",
        "X_test = X_test.reshape((X_test.shape[0], 28, 28, 1)).astype('float32')\n",
        "# normalize inputs from 0-255 to 0-1\n",
        "X_train = X_train / 255\n",
        "X_test = X_test / 255"
      ],
      "metadata": {
        "id": "w6Uq-pYZ1ijz"
      },
      "execution_count": 30,
      "outputs": []
    },
    {
      "cell_type": "code",
      "source": [
        "# one hot encode outputs\n",
        "y_train = to_categorical(y_train)\n",
        "y_test = to_categorical(y_test)\n",
        "num_classes = y_test.shape[1]"
      ],
      "metadata": {
        "id": "x4qUx1NV1yfE"
      },
      "execution_count": 31,
      "outputs": []
    },
    {
      "cell_type": "code",
      "source": [
        "# define the larger model\n",
        "def larger_model():\n",
        "\t# create model\n",
        "\tmodel = Sequential()\n",
        "\tmodel.add(Conv2D(30, (5, 5), input_shape=(28, 28, 1), activation='relu'))\n",
        "\tmodel.add(MaxPooling2D())\n",
        "\tmodel.add(Conv2D(15, (3, 3), activation='relu'))\n",
        "\tmodel.add(MaxPooling2D())\n",
        "\tmodel.add(Dropout(0.2))\n",
        "\tmodel.add(Flatten())\n",
        "\tmodel.add(Dense(128, activation='relu'))\n",
        "\tmodel.add(Dense(50, activation='relu'))\n",
        "\tmodel.add(Dense(num_classes, activation='softmax'))\n",
        "\t# Compile model\n",
        "\tmodel.compile(loss='categorical_crossentropy', optimizer='adam', metrics=['accuracy'])\n",
        "\treturn model"
      ],
      "metadata": {
        "id": "wn75T-PD122z"
      },
      "execution_count": 32,
      "outputs": []
    },
    {
      "cell_type": "code",
      "source": [
        "# build the model\n",
        "model = larger_model()\n",
        "# Fit the model\n",
        "model.fit(X_train, y_train, validation_data=(X_test, y_test), epochs=10, batch_size=200)\n",
        "# Final evaluation of the model\n",
        "scores = model.evaluate(X_test, y_test, verbose=0)\n",
        "print(\"Large CNN Error: %.2f%%\" % (100-scores[1]*100))"
      ],
      "metadata": {
        "colab": {
          "base_uri": "https://localhost:8080/"
        },
        "id": "I-jbnpJc16AT",
        "outputId": "5fcc0af4-706d-4316-eb99-8e239bfbfa11"
      },
      "execution_count": 33,
      "outputs": [
        {
          "output_type": "stream",
          "name": "stdout",
          "text": [
            "Epoch 1/10\n",
            "300/300 [==============================] - 34s 110ms/step - loss: 0.3982 - accuracy: 0.8763 - val_loss: 0.0757 - val_accuracy: 0.9768\n",
            "Epoch 2/10\n",
            "300/300 [==============================] - 32s 106ms/step - loss: 0.0941 - accuracy: 0.9715 - val_loss: 0.0498 - val_accuracy: 0.9833\n",
            "Epoch 3/10\n",
            "300/300 [==============================] - 32s 106ms/step - loss: 0.0670 - accuracy: 0.9796 - val_loss: 0.0425 - val_accuracy: 0.9860\n",
            "Epoch 4/10\n",
            "300/300 [==============================] - 31s 104ms/step - loss: 0.0552 - accuracy: 0.9826 - val_loss: 0.0386 - val_accuracy: 0.9870\n",
            "Epoch 5/10\n",
            "300/300 [==============================] - 30s 101ms/step - loss: 0.0475 - accuracy: 0.9854 - val_loss: 0.0322 - val_accuracy: 0.9888\n",
            "Epoch 6/10\n",
            "300/300 [==============================] - 31s 104ms/step - loss: 0.0433 - accuracy: 0.9864 - val_loss: 0.0290 - val_accuracy: 0.9897\n",
            "Epoch 7/10\n",
            "300/300 [==============================] - 31s 103ms/step - loss: 0.0394 - accuracy: 0.9874 - val_loss: 0.0297 - val_accuracy: 0.9896\n",
            "Epoch 8/10\n",
            "300/300 [==============================] - 30s 101ms/step - loss: 0.0342 - accuracy: 0.9889 - val_loss: 0.0336 - val_accuracy: 0.9893\n",
            "Epoch 9/10\n",
            "300/300 [==============================] - 31s 103ms/step - loss: 0.0317 - accuracy: 0.9899 - val_loss: 0.0290 - val_accuracy: 0.9913\n",
            "Epoch 10/10\n",
            "300/300 [==============================] - 30s 100ms/step - loss: 0.0314 - accuracy: 0.9898 - val_loss: 0.0246 - val_accuracy: 0.9919\n",
            "Large CNN Error: 0.81%\n"
          ]
        }
      ]
    },
    {
      "cell_type": "code",
      "source": [
        "# So, our large CNN model is giving an error rate of 0.81% which is pretty good. "
      ],
      "metadata": {
        "id": "l7wGl1D_18ir"
      },
      "execution_count": 28,
      "outputs": []
    },
    {
      "cell_type": "code",
      "source": [
        "# Fit the model\n",
        "model.fit(X_train, y_train, validation_data=(X_test, y_test), epochs=10, batch_size=200)\n",
        "\n",
        "# Get the predicted labels for the test set\n",
        "y_pred = model.predict(X_test)\n",
        "predicted_labels = np.argmax(y_pred, axis=1)\n",
        "\n",
        "# Get the actual labels for the test set\n",
        "true_labels = np.argmax(y_test, axis=1)\n",
        "\n",
        "# Compare predicted labels with actual labels\n",
        "for i in range(len(predicted_labels)):\n",
        "    print(\"Actual Label: {}, Predicted Label: {}\".format(true_labels[i], predicted_labels[i]))"
      ],
      "metadata": {
        "colab": {
          "base_uri": "https://localhost:8080/",
          "height": 599
        },
        "id": "S2k9hgIk3p0y",
        "outputId": "c1b661e0-985e-4ed6-95c1-6ec6047dc2b6"
      },
      "execution_count": 34,
      "outputs": [
        {
          "output_type": "stream",
          "name": "stdout",
          "text": [
            "Epoch 1/10\n",
            "300/300 [==============================] - 31s 102ms/step - loss: 0.0277 - accuracy: 0.9909 - val_loss: 0.0237 - val_accuracy: 0.9921\n",
            "Epoch 2/10\n",
            "300/300 [==============================] - 31s 103ms/step - loss: 0.0259 - accuracy: 0.9914 - val_loss: 0.0240 - val_accuracy: 0.9927\n",
            "Epoch 3/10\n",
            "300/300 [==============================] - 31s 104ms/step - loss: 0.0247 - accuracy: 0.9922 - val_loss: 0.0260 - val_accuracy: 0.9923\n",
            "Epoch 4/10\n",
            "300/300 [==============================] - 30s 101ms/step - loss: 0.0221 - accuracy: 0.9923 - val_loss: 0.0221 - val_accuracy: 0.9930\n",
            "Epoch 5/10\n",
            "300/300 [==============================] - 31s 103ms/step - loss: 0.0214 - accuracy: 0.9931 - val_loss: 0.0257 - val_accuracy: 0.9918\n",
            "Epoch 6/10\n",
            "300/300 [==============================] - 31s 105ms/step - loss: 0.0206 - accuracy: 0.9931 - val_loss: 0.0218 - val_accuracy: 0.9933\n",
            "Epoch 7/10\n",
            "300/300 [==============================] - 31s 103ms/step - loss: 0.0196 - accuracy: 0.9935 - val_loss: 0.0245 - val_accuracy: 0.9927\n",
            "Epoch 8/10\n",
            "300/300 [==============================] - 31s 104ms/step - loss: 0.0183 - accuracy: 0.9939 - val_loss: 0.0246 - val_accuracy: 0.9921\n",
            "Epoch 9/10\n",
            "300/300 [==============================] - 30s 100ms/step - loss: 0.0168 - accuracy: 0.9944 - val_loss: 0.0267 - val_accuracy: 0.9916\n",
            "Epoch 10/10\n",
            "300/300 [==============================] - 31s 103ms/step - loss: 0.0161 - accuracy: 0.9947 - val_loss: 0.0243 - val_accuracy: 0.9931\n",
            "313/313 [==============================] - 2s 7ms/step\n"
          ]
        },
        {
          "output_type": "error",
          "ename": "NameError",
          "evalue": "ignored",
          "traceback": [
            "\u001b[0;31m---------------------------------------------------------------------------\u001b[0m",
            "\u001b[0;31mNameError\u001b[0m                                 Traceback (most recent call last)",
            "\u001b[0;32m<ipython-input-34-a6ddf8172adb>\u001b[0m in \u001b[0;36m<cell line: 6>\u001b[0;34m()\u001b[0m\n\u001b[1;32m      4\u001b[0m \u001b[0;31m# Get the predicted labels for the test set\u001b[0m\u001b[0;34m\u001b[0m\u001b[0;34m\u001b[0m\u001b[0m\n\u001b[1;32m      5\u001b[0m \u001b[0my_pred\u001b[0m \u001b[0;34m=\u001b[0m \u001b[0mmodel\u001b[0m\u001b[0;34m.\u001b[0m\u001b[0mpredict\u001b[0m\u001b[0;34m(\u001b[0m\u001b[0mX_test\u001b[0m\u001b[0;34m)\u001b[0m\u001b[0;34m\u001b[0m\u001b[0;34m\u001b[0m\u001b[0m\n\u001b[0;32m----> 6\u001b[0;31m \u001b[0mpredicted_labels\u001b[0m \u001b[0;34m=\u001b[0m \u001b[0mnp\u001b[0m\u001b[0;34m.\u001b[0m\u001b[0margmax\u001b[0m\u001b[0;34m(\u001b[0m\u001b[0my_pred\u001b[0m\u001b[0;34m,\u001b[0m \u001b[0maxis\u001b[0m\u001b[0;34m=\u001b[0m\u001b[0;36m1\u001b[0m\u001b[0;34m)\u001b[0m\u001b[0;34m\u001b[0m\u001b[0;34m\u001b[0m\u001b[0m\n\u001b[0m\u001b[1;32m      7\u001b[0m \u001b[0;34m\u001b[0m\u001b[0m\n\u001b[1;32m      8\u001b[0m \u001b[0;31m# Get the actual labels for the test set\u001b[0m\u001b[0;34m\u001b[0m\u001b[0;34m\u001b[0m\u001b[0m\n",
            "\u001b[0;31mNameError\u001b[0m: name 'np' is not defined"
          ]
        }
      ]
    },
    {
      "cell_type": "code",
      "source": [
        "import numpy as np\n",
        "# Fit the model\n",
        "model.fit(X_train, y_train, validation_data=(X_test, y_test), epochs=10, batch_size=200)\n",
        "\n",
        "# Get the predicted labels for the test set\n",
        "y_pred = model.predict(X_test)\n",
        "predicted_labels = np.argmax(y_pred, axis=1)\n",
        "\n",
        "# Display actual images and predicted images\n",
        "n_images = 4  # Number of images to display\n",
        "indices = np.random.choice(len(X_test), size=n_images, replace=False)\n",
        "\n",
        "plt.figure(figsize=(12, 6))\n",
        "for i, index in enumerate(indices):\n",
        "    # Display actual image\n",
        "    plt.subplot(2, n_images, i + 1)\n",
        "    plt.imshow(X_test[index].reshape(28, 28), cmap='gray')\n",
        "    plt.title(\"Actual: {}\".format(np.argmax(y_test[index])))\n",
        "    plt.axis(\"off\")\n",
        "\n",
        "    # Display predicted image\n",
        "    plt.subplot(2, n_images, n_images + i + 1)\n",
        "    plt.imshow(X_test[index].reshape(28, 28), cmap='gray')\n",
        "    plt.title(\"Predicted: {}\".format(predicted_labels[index]))\n",
        "    plt.axis(\"off\")\n",
        "\n",
        "plt.tight_layout()\n",
        "plt.show()"
      ],
      "metadata": {
        "colab": {
          "base_uri": "https://localhost:8080/",
          "height": 974
        },
        "id": "I6Zh4Tvt6Ioh",
        "outputId": "c22ba864-1861-46a9-b171-7caf70c3818c"
      },
      "execution_count": 36,
      "outputs": [
        {
          "output_type": "stream",
          "name": "stdout",
          "text": [
            "Epoch 1/10\n",
            "300/300 [==============================] - 31s 104ms/step - loss: 0.0143 - accuracy: 0.9949 - val_loss: 0.0272 - val_accuracy: 0.9925\n",
            "Epoch 2/10\n",
            "300/300 [==============================] - 31s 103ms/step - loss: 0.0149 - accuracy: 0.9948 - val_loss: 0.0299 - val_accuracy: 0.9912\n",
            "Epoch 3/10\n",
            "300/300 [==============================] - 31s 104ms/step - loss: 0.0143 - accuracy: 0.9948 - val_loss: 0.0262 - val_accuracy: 0.9919\n",
            "Epoch 4/10\n",
            "300/300 [==============================] - 31s 102ms/step - loss: 0.0136 - accuracy: 0.9954 - val_loss: 0.0247 - val_accuracy: 0.9932\n",
            "Epoch 5/10\n",
            "300/300 [==============================] - 31s 102ms/step - loss: 0.0119 - accuracy: 0.9962 - val_loss: 0.0270 - val_accuracy: 0.9919\n",
            "Epoch 6/10\n",
            "300/300 [==============================] - 30s 100ms/step - loss: 0.0132 - accuracy: 0.9957 - val_loss: 0.0273 - val_accuracy: 0.9915\n",
            "Epoch 7/10\n",
            "300/300 [==============================] - 31s 102ms/step - loss: 0.0125 - accuracy: 0.9958 - val_loss: 0.0240 - val_accuracy: 0.9924\n",
            "Epoch 8/10\n",
            "300/300 [==============================] - 30s 100ms/step - loss: 0.0121 - accuracy: 0.9962 - val_loss: 0.0247 - val_accuracy: 0.9935\n",
            "Epoch 9/10\n",
            "300/300 [==============================] - 31s 102ms/step - loss: 0.0112 - accuracy: 0.9962 - val_loss: 0.0270 - val_accuracy: 0.9921\n",
            "Epoch 10/10\n",
            "300/300 [==============================] - 30s 99ms/step - loss: 0.0126 - accuracy: 0.9959 - val_loss: 0.0252 - val_accuracy: 0.9937\n",
            "313/313 [==============================] - 2s 7ms/step\n"
          ]
        },
        {
          "output_type": "display_data",
          "data": {
            "text/plain": [
              "<Figure size 1200x600 with 8 Axes>"
            ],
            "image/png": "[encoded data removed]"
          },
          "metadata": {}
        }
      ]
    },
    {
      "cell_type": "code",
      "source": [],
      "metadata": {
        "id": "fBxkLDFh7fDn"
      },
      "execution_count": null,
      "outputs": []
    }
  ]
}